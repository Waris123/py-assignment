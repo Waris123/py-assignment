{
 "cells": [
  {
   "cell_type": "code",
   "execution_count": 1,
   "metadata": {},
   "outputs": [
    {
     "name": "stdout",
     "output_type": "stream",
     "text": [
      "Items:\n",
      "\n",
      "\tRice\n",
      "\tMong Daal\n",
      "\tOil\n",
      "\tMax lemon bar\n"
     ]
    }
   ],
   "source": [
    "\"\"\" Q6: Suppose a customer is shopping in a market and you need to print all the items which user bought from market.\n",
    "    Write a function which accepts multiple arguments of user shopping list and print all the items which user bought from \n",
    "    the market.\n",
    "\"\"\"\n",
    "\n",
    "# Definition Of Function\n",
    "def shopping(*items):\n",
    "    print(\"Items:\\n\")\n",
    "    for item in items:\n",
    "        print(f\"\\t{item}\")\n",
    "        \n",
    "# Calling\n",
    "shopping(\"Rice\",\"Mong Daal\",\"Oil\",\"Max lemon bar\")"
   ]
  },
  {
   "cell_type": "code",
   "execution_count": null,
   "metadata": {},
   "outputs": [],
   "source": []
  }
 ],
 "metadata": {
  "kernelspec": {
   "display_name": "Python 3",
   "language": "python",
   "name": "python3"
  },
  "language_info": {
   "codemirror_mode": {
    "name": "ipython",
    "version": 3
   },
   "file_extension": ".py",
   "mimetype": "text/x-python",
   "name": "python",
   "nbconvert_exporter": "python",
   "pygments_lexer": "ipython3",
   "version": "3.7.4"
  }
 },
 "nbformat": 4,
 "nbformat_minor": 2
}
