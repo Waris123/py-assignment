{
 "cells": [
  {
   "cell_type": "code",
   "execution_count": 4,
   "metadata": {},
   "outputs": [
    {
     "name": "stdout",
     "output_type": "stream",
     "text": [
      "7 is a prime number !\n",
      "4 is not a prime number\n",
      "13 is a prime number !\n"
     ]
    }
   ],
   "source": [
    "# Q5: Write a Python function that takes a number as a parameter and check, the number is prime or not.\n",
    "\n",
    "# Definition\n",
    "def check_prime(num):\n",
    "    flag = True\n",
    "    if num > 1:  \n",
    "        for i in range(2,num):  \n",
    "            if (num % i) == 0:  \n",
    "                print(num,\"is not a prime number\")  \n",
    "                flag = False\n",
    "                break  \n",
    "        if flag:\n",
    "            print(num, \"is a prime number !\")\n",
    "\n",
    "    else:\n",
    "        print(num, \"is not a prime number\")\n",
    "\n",
    "    # Calling\n",
    "check_prime(7)\n",
    "check_prime(4)\n",
    "check_prime(13)"
   ]
  },
  {
   "cell_type": "code",
   "execution_count": null,
   "metadata": {},
   "outputs": [],
   "source": []
  }
 ],
 "metadata": {
  "kernelspec": {
   "display_name": "Python 3",
   "language": "python",
   "name": "python3"
  },
  "language_info": {
   "codemirror_mode": {
    "name": "ipython",
    "version": 3
   },
   "file_extension": ".py",
   "mimetype": "text/x-python",
   "name": "python",
   "nbconvert_exporter": "python",
   "pygments_lexer": "ipython3",
   "version": "3.7.4"
  }
 },
 "nbformat": 4,
 "nbformat_minor": 2
}
