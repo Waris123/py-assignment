{
 "cells": [
  {
   "cell_type": "code",
   "execution_count": 3,
   "metadata": {},
   "outputs": [
    {
     "name": "stdout",
     "output_type": "stream",
     "text": [
      "There are 3 Lower case letters:\n",
      "There are 2 Upper case letters:\n"
     ]
    }
   ],
   "source": [
    "# Q2: Write a Python function that accepts a string and calculate the number of uppercase letters and lowercase letters.\n",
    "\n",
    "# Definition\n",
    "def case_counter(string):\n",
    "    upper_count = 0\n",
    "    lower_count = 0\n",
    "    for letter in string:\n",
    "        if letter == letter.lower():\n",
    "            lower_count += 1\n",
    "        elif letter == letter.upper():\n",
    "            upper_count += 1\n",
    "    print(f\"There are {lower_count} Lower case letters:\")\n",
    "    print(f\"There are {upper_count} Upper case letters:\")\n",
    "    \n",
    "# Calling\n",
    "case_counter(\"PKkhi\")"
   ]
  },
  {
   "cell_type": "code",
   "execution_count": null,
   "metadata": {},
   "outputs": [],
   "source": []
  }
 ],
 "metadata": {
  "kernelspec": {
   "display_name": "Python 3",
   "language": "python",
   "name": "python3"
  },
  "language_info": {
   "codemirror_mode": {
    "name": "ipython",
    "version": 3
   },
   "file_extension": ".py",
   "mimetype": "text/x-python",
   "name": "python",
   "nbconvert_exporter": "python",
   "pygments_lexer": "ipython3",
   "version": "3.7.4"
  }
 },
 "nbformat": 4,
 "nbformat_minor": 2
}
